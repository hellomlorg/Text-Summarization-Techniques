{
  "nbformat": 4,
  "nbformat_minor": 0,
  "metadata": {
    "colab": {
      "name": "Text_summarization_techniques.ipynb",
      "provenance": [],
      "collapsed_sections": []
    },
    "kernelspec": {
      "display_name": "Python 3",
      "name": "python3"
    }
  },
  "cells": [
    {
      "cell_type": "code",
      "metadata": {
        "id": "aXnqyg6-6sa_"
      },
      "source": [
        "# Importing package and summarizer\n",
        "import gensim\n",
        "from gensim.summarization import summarize"
      ],
      "execution_count": 1,
      "outputs": []
    },
    {
      "cell_type": "code",
      "metadata": {
        "id": "G2aB1a2N68To"
      },
      "source": [
        "original_text = open(\"text.txt\", \"r\").read()\n"
      ],
      "execution_count": 5,
      "outputs": []
    },
    {
      "cell_type": "code",
      "metadata": {
        "colab": {
          "base_uri": "https://localhost:8080/",
          "height": 137
        },
        "id": "2HIUeKrf8YE0",
        "outputId": "3efe64f6-29ac-4742-af6e-a19266439bd1"
      },
      "source": [
        "original_text"
      ],
      "execution_count": 6,
      "outputs": [
        {
          "output_type": "execute_result",
          "data": {
            "application/vnd.google.colaboratory.intrinsic+json": {
              "type": "string"
            },
            "text/plain": [
              "'The first season introduces the six main characters who live in New York City: Rachel Green, a waitress; professional chef Monica Geller; her paleontologist brother, Ross Geller; free-spirited masseuse Phoebe Buffay; struggling actor Joey Tribbiani, and Ross\\'s college friend, Chandler Bing, whose precise occupation at a corporation is unknown. Rachel arrives at Central Perk, wearing her wedding dress, after leaving her fiancé, Barry, an orthodontist, at the altar. She moves into her high school friend Monica\\'s apartment, and gets a waitress job at Central Perk. Ross, who has had a crush on Rachel since high school, often attempts to declare his feelings for her. However, many obstacles stand in his way, including his insecurities, Rachel dating an Italian neighbour named Paolo, and the fact that he is expecting a baby with his lesbian ex-wife, Carol, who gives birth to Ben later in the season. Joey never has a steady girlfriend and constantly sleeps with a variety of women. Phoebe is rather quirky and eccentric, mostly due to her mother\\'s suicide when Phoebe was a child and having lived on the streets for a time. However, the gang loves her regardless. Chandler breaks up with his girlfriend, Janice (Maggie Wheeler), only to find himself reconnecting with her throughout the series. Near the end of the season, while Ross is at a paleontology dig in China, Chandler accidentally lets slip that Ross loves Rachel, who then realizes that she also cares for him. The season ends with Rachel waiting at the airport for Ross, who is returning from China.\\nRachel greets Ross at the airport only to discover that he has returned with Julie (Lauren Tom), someone he knew from graduate school. Rachel\\'s attempts to tell Ross that she loves him initially mirror his failed attempts in the first season. After he breaks up with Julie for Rachel, friction between them develops when Rachel discovers Ross\\'s list of the cons of dating her. They eventually begin a relationship after Rachel sees an old home video from her and Monica\\'s prom night and realizes Ross was going to stand in for her prom date who nearly stood her up. Monica is promoted to head chef at the Iridium restaurant, then gets fired for accepting gifts from a supplier, which is against company policy. Needing money, she is forced to take an embarrassing job as a waitress at a 1950s-style diner. She also begins dating Richard Burke (Tom Selleck), a recently divorced family friend who is 21 years her senior. They eventually break up when Monica realizes that Richard, already a father, does not want more children. Joey is cast in a fictional version of the soap opera, Days of Our Lives as neurosurgeon Dr. Drake Ramoray. He moves out of his and Chandler\\'s apartment, forcing Chandler to get a new roommate, Eddie (Adam Goldberg). However, Eddie is annoying and somewhat deranged. When Joey claims in a soap opera magazine interview that he writes many of his own lines, offending the show\\'s writer, his character is killed off. No longer able to afford his expensive new apartment, Joey moves back in with Chandler, kicking Eddie out in the process. In the season finale, Chandler talks to an anonymous woman in an online chat room. When they agree to meet in person, the woman turns out to be Janice.\\nSeason 3 takes on a significantly more serialized format. Chandler and Janice date for several episodes until Joey catches Janice kissing her soon-to-be ex-husband. Not wanting to destroy her family, Chandler urges Janice to go back to her husband, then becomes depressed over the breakup for several episodes. Rachel quits her job at Central Perk and begins working at Bloomingdale\\'s, an upscale department store chain. Ross soon becomes jealous of her colleague Mark and frustrated by Rachel\\'s long work hours. She is tired of his constant jealousy and insecurity, and decides they need a (relationship) break. Ross, hurt and somewhat drunk, immediately sleeps with Chloe, \"the hot girl from the Xerox place,\" causing Rachel to break up with him completely. Although Phoebe initially believes she has no family except her twin sister Ursula (Lisa Kudrow), she learns she has a half-brother, Frank Jr. (Giovanni Ribisi) and discovers her birth mother, Phoebe Abbott (Teri Garr) over the course of the season. Joey falls in love with his acting partner Kate (Dina Meyer), but is jealous of her dating the director of their play. They begin a brief relationship that ends when she takes an acting job in Los Angeles. Monica dates millionaire Pete Becker (Jon Favreau), despite her initially not being attracted to him. However, she breaks up with Pete after he is seriously hurt trying to become the Ultimate Fighting Champion and refuses to quit. Phoebe sets Ross up on a date with her friend, Bonnie (Christine Taylor), inciting Rachel\\'s jealousy. She tries sabotaging the relationship by coercing Bonnie to shave her head bald, and eventually admits to Ross that she still has feelings for him. The season closes with Ross having to choose between Rachel and Bonnie.\\nIn the season 4 premiere, after Ross breaks up with Bonnie, he and Rachel briefly reconcile after Ross pretends to read a long letter that Rachel wrote for him. However, Ross continues to insist that the two were on a break when he slept with Chloe, so they break up again. Joey dates Kathy (Paget Brewster), a girl that Chandler has a crush on. Kathy and Chandler later kiss, which causes drama between Chandler and Joey. Joey only forgives Chandler and allows him to date Kathy after Chandler spends Thanksgiving in a box as punishment. Chandler\\'s relationship with Kathy ends after he discovers that she cheated on him due to an argument. Phoebe loses her job as a masseuse after making out with one of her clients and she accompanies Monica, who has become a caterer for hire. They soon start a catering business together but Monica, after negatively reviewing a restaurant, Allesandro\\'s, is offered the position of head chef. Despite initially being pressured by the wrath of her co-workers, Monica eventually asserts her dominance in the kitchen. Phoebe becomes a surrogate mother for her brother and his wife, Alice (Debra Jo Rupp). Monica and Rachel are forced to switch apartments with Joey and Chandler after losing a bet during a quiz game, but manage to switch back by bribing them with Knicks season tickets and a one-minute kiss (off-screen) between each other. After her boss dies, Rachel is demoted to personal shopping and meets and later dates a customer named Joshua (Tate Donovan). Ross begins dating an English woman named Emily (Helen Baxendale), and they quickly get engaged. Rachel struggles to cope and hastily suggests to Joshua that they marry, after which he rejects her. In the season finale, the group, apart from Phoebe and Rachel, travel to Ross and Emily\\'s wedding in London. Chandler and Monica sleep together, and Rachel, realizing that she is still in love with Ross, rushes to London to stop Ross and Emily\\'s wedding, but changes her mind when she sees them happy together. While saying his vows, Ross says Rachel\\'s name at the altar, shocking his bride and the guests.\\nRoss and Emily marry, but an angry and humiliated Emily flees the reception. Rachel soon admits her love for Ross, but realizing how ridiculous this is, advises him to work on his marriage to Emily. She develops a crush on her neighbour Danny and they date briefly, until she realizes that he is too close with his sister. Monica and Chandler try to keep their new relationship a secret from their friends. Phoebe gives birth to triplets in the show\\'s 100th episode. She gives birth to a boy, Frank Jr. Jr., and two girls, Leslie and Chandler. After weeks of trying to contact her, Emily agrees to reconcile with Ross and move to New York if he breaks off all communication with Rachel. Ross agrees, but later attends a dinner with all his friends, Rachel included. Emily phones Ross, discovers Rachel is there, realizes she does not trust him and ends their marriage. Ross takes out his anger at work, resulting in him being indefinitely suspended from the museum, and he moves in with Chandler and Joey until eventually getting a new apartment across the street from them. Rachel gets a new job at Ralph Lauren. Phoebe begins a relationship with a police officer, Gary (Michael Rapaport), after finding his badge and using it as her own. Monica and Chandler go public with their relationship, to the surprise and delight of their friends. They decide to get married on a trip to Las Vegas, but change their plans after witnessing Ross and Rachel drunkenly stumbling out of the wedding chapel.\\nIn the season 6 premiere, Ross and Rachel\\'s marriage turns out to be a drunken mistake that neither remembers until the other friends mention it. Ross promises Rachel he will get them an annulment, then secretly does nothing because he cannot face having three failed marriages. By the time Rachel discovers they are still married, an annulment is impossible due to their history; they are forced to get a divorce. After ignoring the numerous signs that they should get married, Monica and Chandler decide to live together, forcing Rachel to move in with Phoebe. Joey gets a new roommate, Janine (Elle Macpherson). They develop feelings for each other and date briefly until Janine criticizes Monica and Chandler, ending the relationship. After Janine moves out, Joey struggles with paying his bills so he takes a job at Central Perk. He soon lands a role on a cable TV series called Mac and C.H.E.E.S.E., starring alongside a crime-fighting robot. Ross gets a teaching job at New York University. He dates Elizabeth (Alexandra Holden), a student, despite it being against university policy. Elizabeth\\'s father, Paul (Bruce Willis), disapproves of Ross but falls for Rachel, and they start dating. Both relationships soon end: Elizabeth is too immature for Ross, and previously reserved Paul opens up emotionally and is more than Rachel can handle. Phoebe and Rachel\\'s apartment catches fire, and Rachel moves in with Joey, while Phoebe stays with Chandler and Monica, though they later switch. While at a museum that has a two-year wait for weddings, Monica puts her name on the reservation list as a joke. When Chandler intercepts the museum\\'s phone call about a cancellation, he panics; however, Chandler has been planning to propose while pretending he may never want to marry. While dining at a fancy restaurant, Chandler\\'s planned proposal is subverted by Monica\\'s ex-boyfriend Richard Burke, who unexpectedly shows up. Richard later tells Monica he wants to marry her and have children. Monica becomes upset at Chandler, believing his ruse about not wanting to marry. Chandler believes Monica has left him until he comes home to find their apartment decorated with candles and her waiting to propose to him. When she becomes too emotional to continue, Chandler proposes and she accepts.\\nThe seventh season mainly follows Monica and Chandler as they plan their wedding amid various problems. Joey\\'s television series, Mac and C.H.E.E.S.E is canceled, but he is offered his old role on Days of Our Lives; the show is retconned with the revelation that Dr. Drake Ramoray has been in a four-year coma and is revived with a brain transplant from another character. Phoebe\\'s repaired apartment now has one large bedroom instead of the original two, so Rachel permanently stays at Joey\\'s. Rachel is promoted at Ralph Lauren and impulsively hires a young assistant, Tag Jones (Eddie Cahill), based on his looks, passing over a more qualified woman. Tag discovers her feelings about him at Thanksgiving dinner, and they begin dating, hiding it from co-workers. However, on her 30th birthday, Rachel ends their relationship, realizing Tag is too young and immature, particularly if she intends to follow her marriage schedule. Hours before Monica and Chandler\\'s wedding ceremony, Chandler panics and goes into hiding just as Phoebe and Rachel find a positive pregnancy test in Monica and Chandler\\'s bathroom. They assume Monica is pregnant. Ross and Phoebe find Chandler and convince him to return for the ceremony, though he briefly bolts again after overhearing Phoebe and Rachel discussing the pregnancy test. He quickly returns, embracing the idea of fatherhood. After the ceremony, Monica denies she is pregnant; unbeknown to everyone, the positive pregnancy test is Rachel\\'s.\\nSeason 8 begins at Monica and Chandler\\'s wedding reception. Phoebe and Monica discover Rachel\\'s pregnancy and persuade her to take another test to confirm it. Phoebe initially claims the test is negative, badly disappointing Rachel, then reveals it is positive, saying Rachel now knows how she really feels about having a baby. Ross is eventually revealed to be the father, and the season revolves around Rachel\\'s pregnancy. Rachel and Ross agree to be co-parents without resuming their romantic relationship; Ross begins dating Mona (Bonnie Somerville), who is Monica\\'s co-worker from Allesandro\\'s. Joey takes Rachel out to quell her fears about motherhood, and realizes he has romantic feelings for her. While suppressing his feelings, he encourages Rachel to stay at Ross\\'s apartment so he can be involved in the pregnancy. The arrangement is too much for Mona, and she breaks up with Ross. Joey tells Ross about his feelings for Rachel. Ross initially is angry, then gives his blessing. Joey tells Rachel that he loves her, but she realizes she does not feel the same way, and they remain friends. When Rachel goes into labor, Ross\\'s mother gives him a family heirloom ring and encourages him to propose to Rachel. Ross hesitates, and puts the ring in his jacket, which he later leaves in Rachel\\'s room. After Monica jokes about having kids, she and Chandler decide to have a baby, starting while they are still at the hospital. After a prolonged labor, during which numerous other expectant mothers, including Janice, are taken to the delivery room, Rachel gives birth to baby Emma. She is left saddened and afraid after Janice later says that Ross may not always be there for her and the baby. When Joey comforts Rachel, the ring falls from Ross\\'s jacket to the floor. Joey kneels to pick it up, and Rachel, believing he is proposing, impulsively says yes. Meanwhile, Ross intends to ask Rachel if she wants to resume their relationship.'"
            ]
          },
          "metadata": {
            "tags": []
          },
          "execution_count": 6
        }
      ]
    },
    {
      "cell_type": "code",
      "metadata": {
        "id": "FmwkLChe6sdo",
        "colab": {
          "base_uri": "https://localhost:8080/"
        },
        "outputId": "999de356-1b75-476a-e3c3-0573198b8141"
      },
      "source": [
        "# Passing the text corpus to summarizer \n",
        "short_summary = summarize(original_text)\n",
        "print(short_summary)"
      ],
      "execution_count": 7,
      "outputs": [
        {
          "output_type": "stream",
          "text": [
            "The first season introduces the six main characters who live in New York City: Rachel Green, a waitress; professional chef Monica Geller; her paleontologist brother, Ross Geller; free-spirited masseuse Phoebe Buffay; struggling actor Joey Tribbiani, and Ross's college friend, Chandler Bing, whose precise occupation at a corporation is unknown.\n",
            "She moves into her high school friend Monica's apartment, and gets a waitress job at Central Perk.\n",
            "However, many obstacles stand in his way, including his insecurities, Rachel dating an Italian neighbour named Paolo, and the fact that he is expecting a baby with his lesbian ex-wife, Carol, who gives birth to Ben later in the season.\n",
            "Near the end of the season, while Ross is at a paleontology dig in China, Chandler accidentally lets slip that Ross loves Rachel, who then realizes that she also cares for him.\n",
            "They eventually begin a relationship after Rachel sees an old home video from her and Monica's prom night and realizes Ross was going to stand in for her prom date who nearly stood her up.\n",
            "Chandler and Janice date for several episodes until Joey catches Janice kissing her soon-to-be ex-husband.\n",
            "Phoebe sets Ross up on a date with her friend, Bonnie (Christine Taylor), inciting Rachel's jealousy.\n",
            "Monica and Rachel are forced to switch apartments with Joey and Chandler after losing a bet during a quiz game, but manage to switch back by bribing them with Knicks season tickets and a one-minute kiss (off-screen) between each other.\n",
            "In the season finale, the group, apart from Phoebe and Rachel, travel to Ross and Emily's wedding in London.\n",
            "Chandler and Monica sleep together, and Rachel, realizing that she is still in love with Ross, rushes to London to stop Ross and Emily's wedding, but changes her mind when she sees them happy together.\n",
            "Rachel soon admits her love for Ross, but realizing how ridiculous this is, advises him to work on his marriage to Emily.\n",
            "Monica and Chandler try to keep their new relationship a secret from their friends.\n",
            "After weeks of trying to contact her, Emily agrees to reconcile with Ross and move to New York if he breaks off all communication with Rachel.\n",
            "Emily phones Ross, discovers Rachel is there, realizes she does not trust him and ends their marriage.\n",
            "Ross takes out his anger at work, resulting in him being indefinitely suspended from the museum, and he moves in with Chandler and Joey until eventually getting a new apartment across the street from them.\n",
            "After ignoring the numerous signs that they should get married, Monica and Chandler decide to live together, forcing Rachel to move in with Phoebe.\n",
            "They develop feelings for each other and date briefly until Janine criticizes Monica and Chandler, ending the relationship.\n",
            "Phoebe and Rachel's apartment catches fire, and Rachel moves in with Joey, while Phoebe stays with Chandler and Monica, though they later switch.\n",
            "Ross and Phoebe find Chandler and convince him to return for the ceremony, though he briefly bolts again after overhearing Phoebe and Rachel discussing the pregnancy test.\n",
            "Season 8 begins at Monica and Chandler's wedding reception.\n",
            "Phoebe and Monica discover Rachel's pregnancy and persuade her to take another test to confirm it.\n",
            "Rachel and Ross agree to be co-parents without resuming their romantic relationship; Ross begins dating Mona (Bonnie Somerville), who is Monica's co-worker from Allesandro's.\n",
            "Joey tells Ross about his feelings for Rachel.\n",
            "Joey tells Rachel that he loves her, but she realizes she does not feel the same way, and they remain friends.\n"
          ],
          "name": "stdout"
        }
      ]
    },
    {
      "cell_type": "markdown",
      "metadata": {
        "id": "4pvjRDHC95J6"
      },
      "source": [
        "# Summarization by ratio\n"
      ]
    },
    {
      "cell_type": "code",
      "metadata": {
        "id": "nzhU-iIq6sfU",
        "colab": {
          "base_uri": "https://localhost:8080/"
        },
        "outputId": "fd48605a-f573-4059-ff29-d21ffc4c3b2a"
      },
      "source": [
        "# Summarization by ratio\n",
        "summary_by_ratio=summarize(original_text,ratio=0.1)\n",
        "print(summary_by_ratio)"
      ],
      "execution_count": 8,
      "outputs": [
        {
          "output_type": "stream",
          "text": [
            "The first season introduces the six main characters who live in New York City: Rachel Green, a waitress; professional chef Monica Geller; her paleontologist brother, Ross Geller; free-spirited masseuse Phoebe Buffay; struggling actor Joey Tribbiani, and Ross's college friend, Chandler Bing, whose precise occupation at a corporation is unknown.\n",
            "She moves into her high school friend Monica's apartment, and gets a waitress job at Central Perk.\n",
            "However, many obstacles stand in his way, including his insecurities, Rachel dating an Italian neighbour named Paolo, and the fact that he is expecting a baby with his lesbian ex-wife, Carol, who gives birth to Ben later in the season.\n",
            "They eventually begin a relationship after Rachel sees an old home video from her and Monica's prom night and realizes Ross was going to stand in for her prom date who nearly stood her up.\n",
            "Monica and Rachel are forced to switch apartments with Joey and Chandler after losing a bet during a quiz game, but manage to switch back by bribing them with Knicks season tickets and a one-minute kiss (off-screen) between each other.\n",
            "In the season finale, the group, apart from Phoebe and Rachel, travel to Ross and Emily's wedding in London.\n",
            "Chandler and Monica sleep together, and Rachel, realizing that she is still in love with Ross, rushes to London to stop Ross and Emily's wedding, but changes her mind when she sees them happy together.\n",
            "Ross takes out his anger at work, resulting in him being indefinitely suspended from the museum, and he moves in with Chandler and Joey until eventually getting a new apartment across the street from them.\n",
            "After ignoring the numerous signs that they should get married, Monica and Chandler decide to live together, forcing Rachel to move in with Phoebe.\n",
            "They develop feelings for each other and date briefly until Janine criticizes Monica and Chandler, ending the relationship.\n",
            "Phoebe and Rachel's apartment catches fire, and Rachel moves in with Joey, while Phoebe stays with Chandler and Monica, though they later switch.\n",
            "Season 8 begins at Monica and Chandler's wedding reception.\n"
          ],
          "name": "stdout"
        }
      ]
    },
    {
      "cell_type": "markdown",
      "metadata": {
        "id": "DIH_QWhj-FEd"
      },
      "source": [
        "# Summarization by word count"
      ]
    },
    {
      "cell_type": "code",
      "metadata": {
        "id": "0FsydgYc6shu",
        "colab": {
          "base_uri": "https://localhost:8080/"
        },
        "outputId": "d2c7f866-3655-463d-a21a-cc16bdfca252"
      },
      "source": [
        "summary_by_word_count=summarize(original_text,word_count=30)\n",
        "print(summary_by_word_count)"
      ],
      "execution_count": null,
      "outputs": [
        {
          "output_type": "stream",
          "text": [
            "The first season introduces the six main characters who live in New York City: Rachel Green, a waitress; professional chef Monica Geller; her paleontologist brother, Ross Geller; free-spirited masseuse Phoebe Buffay; struggling actor Joey Tribbiani, and Ross's college friend, Chandler Bing, whose precise occupation at a corporation is unknown.\n"
          ],
          "name": "stdout"
        }
      ]
    },
    {
      "cell_type": "code",
      "metadata": {
        "id": "PHs8cle66skZ",
        "colab": {
          "base_uri": "https://localhost:8080/"
        },
        "outputId": "70f6ee94-2fa1-46cd-8361-24a5b9fd9349"
      },
      "source": [
        "summary=summarize(original_text, ratio=0.1, word_count=30)\n",
        "print(summary)"
      ],
      "execution_count": null,
      "outputs": [
        {
          "output_type": "stream",
          "text": [
            "The first season introduces the six main characters who live in New York City: Rachel Green, a waitress; professional chef Monica Geller; her paleontologist brother, Ross Geller; free-spirited masseuse Phoebe Buffay; struggling actor Joey Tribbiani, and Ross's college friend, Chandler Bing, whose precise occupation at a corporation is unknown.\n"
          ],
          "name": "stdout"
        }
      ]
    },
    {
      "cell_type": "markdown",
      "metadata": {
        "id": "rpRlX9W8-Jw_"
      },
      "source": [
        "# Text Summarization Sumy"
      ]
    },
    {
      "cell_type": "code",
      "metadata": {
        "id": "7NzTIkxN6sm3",
        "colab": {
          "base_uri": "https://localhost:8080/"
        },
        "outputId": "87b2f9f3-3429-4f1c-e746-75b6190b7535"
      },
      "source": [
        "# Installing and Importing sumy\n",
        "!pip install sumy\n",
        "import sumy"
      ],
      "execution_count": null,
      "outputs": [
        {
          "output_type": "stream",
          "text": [
            "Collecting sumy\n",
            "\u001b[?25l  Downloading https://files.pythonhosted.org/packages/61/20/8abf92617ec80a2ebaec8dc1646a790fc9656a4a4377ddb9f0cc90bc9326/sumy-0.8.1-py2.py3-none-any.whl (83kB)\n",
            "\u001b[K     |████████████████████████████████| 92kB 3.0MB/s \n",
            "\u001b[?25hCollecting pycountry>=18.2.23\n",
            "\u001b[?25l  Downloading https://files.pythonhosted.org/packages/76/73/6f1a412f14f68c273feea29a6ea9b9f1e268177d32e0e69ad6790d306312/pycountry-20.7.3.tar.gz (10.1MB)\n",
            "\u001b[K     |████████████████████████████████| 10.1MB 5.6MB/s \n",
            "\u001b[?25hRequirement already satisfied: nltk>=3.0.2 in /usr/local/lib/python3.7/dist-packages (from sumy) (3.2.5)\n",
            "Requirement already satisfied: docopt<0.7,>=0.6.1 in /usr/local/lib/python3.7/dist-packages (from sumy) (0.6.2)\n",
            "Collecting breadability>=0.1.20\n",
            "  Downloading https://files.pythonhosted.org/packages/ad/2d/bb6c9b381e6b6a432aa2ffa8f4afdb2204f1ff97cfcc0766a5b7683fec43/breadability-0.1.20.tar.gz\n",
            "Requirement already satisfied: requests>=2.7.0 in /usr/local/lib/python3.7/dist-packages (from sumy) (2.23.0)\n",
            "Requirement already satisfied: six in /usr/local/lib/python3.7/dist-packages (from nltk>=3.0.2->sumy) (1.15.0)\n",
            "Requirement already satisfied: chardet in /usr/local/lib/python3.7/dist-packages (from breadability>=0.1.20->sumy) (3.0.4)\n",
            "Requirement already satisfied: lxml>=2.0 in /usr/local/lib/python3.7/dist-packages (from breadability>=0.1.20->sumy) (4.2.6)\n",
            "Requirement already satisfied: idna<3,>=2.5 in /usr/local/lib/python3.7/dist-packages (from requests>=2.7.0->sumy) (2.10)\n",
            "Requirement already satisfied: urllib3!=1.25.0,!=1.25.1,<1.26,>=1.21.1 in /usr/local/lib/python3.7/dist-packages (from requests>=2.7.0->sumy) (1.24.3)\n",
            "Requirement already satisfied: certifi>=2017.4.17 in /usr/local/lib/python3.7/dist-packages (from requests>=2.7.0->sumy) (2020.12.5)\n",
            "Building wheels for collected packages: pycountry, breadability\n",
            "  Building wheel for pycountry (setup.py) ... \u001b[?25l\u001b[?25hdone\n",
            "  Created wheel for pycountry: filename=pycountry-20.7.3-py2.py3-none-any.whl size=10746863 sha256=e956a262518b6abcdf68deb377c4f4eb726a3bac57a64897666e15e41442dbde\n",
            "  Stored in directory: /root/.cache/pip/wheels/33/4e/a6/be297e6b83567e537bed9df4a93f8590ec01c1acfbcd405348\n",
            "  Building wheel for breadability (setup.py) ... \u001b[?25l\u001b[?25hdone\n",
            "  Created wheel for breadability: filename=breadability-0.1.20-py2.py3-none-any.whl size=21680 sha256=1dd5d5cc8da37ad045904f5cc7e19bb41746235d9d555346cbd512c579d61f76\n",
            "  Stored in directory: /root/.cache/pip/wheels/5a/4d/a1/510b12c5e65e0b2b3ce539b2af66da0fc57571e528924f4a52\n",
            "Successfully built pycountry breadability\n",
            "Installing collected packages: pycountry, breadability, sumy\n",
            "Successfully installed breadability-0.1.20 pycountry-20.7.3 sumy-0.8.1\n"
          ],
          "name": "stdout"
        }
      ]
    },
    {
      "cell_type": "markdown",
      "metadata": {
        "id": "kTLPqyDV-X3s"
      },
      "source": [
        "# Importing the parser and tokenizer"
      ]
    },
    {
      "cell_type": "code",
      "metadata": {
        "id": "HVr-8rH36spI"
      },
      "source": [
        "from sumy.parsers.plaintext import PlaintextParser\n",
        "from sumy.nlp.tokenizers import Tokenizer"
      ],
      "execution_count": null,
      "outputs": []
    },
    {
      "cell_type": "markdown",
      "metadata": {
        "id": "yUccAYXp-dUy"
      },
      "source": [
        "# Import the LexRank summarizer\n"
      ]
    },
    {
      "cell_type": "code",
      "metadata": {
        "id": "WcqJ9fh36srg"
      },
      "source": [
        "from sumy.summarizers.lex_rank import LexRankSummarizer"
      ],
      "execution_count": null,
      "outputs": []
    },
    {
      "cell_type": "code",
      "metadata": {
        "id": "ja4QjZzy9NF_",
        "colab": {
          "base_uri": "https://localhost:8080/"
        },
        "outputId": "78e5c297-9755-40e3-bda8-c4fc9eabeea6"
      },
      "source": [
        "import nltk\n",
        "nltk.download('punkt')"
      ],
      "execution_count": null,
      "outputs": [
        {
          "output_type": "stream",
          "text": [
            "[nltk_data] Downloading package punkt to /root/nltk_data...\n",
            "[nltk_data]   Unzipping tokenizers/punkt.zip.\n"
          ],
          "name": "stdout"
        },
        {
          "output_type": "execute_result",
          "data": {
            "text/plain": [
              "True"
            ]
          },
          "metadata": {
            "tags": []
          },
          "execution_count": 29
        }
      ]
    },
    {
      "cell_type": "code",
      "metadata": {
        "id": "pLmsUKMK6std"
      },
      "source": [
        "# Initializing the parser\n",
        "my_parser = PlaintextParser.from_string(original_text,Tokenizer('english'))\n"
      ],
      "execution_count": null,
      "outputs": []
    },
    {
      "cell_type": "markdown",
      "metadata": {
        "id": "dWlbDeb8-g0N"
      },
      "source": [
        "# Creating a summary of 5 sentences.\n"
      ]
    },
    {
      "cell_type": "code",
      "metadata": {
        "id": "X4IUj-Go6syB",
        "colab": {
          "base_uri": "https://localhost:8080/"
        },
        "outputId": "fff61916-a742-4bde-e245-0f856fc576b4"
      },
      "source": [
        "lex_rank_summarizer = LexRankSummarizer()\n",
        "lexrank_summary = lex_rank_summarizer(my_parser.document,sentences_count=5)\n",
        "\n",
        "# Printing the summary\n",
        "for sentence in lexrank_summary:\n",
        "  print(sentence)"
      ],
      "execution_count": null,
      "outputs": [
        {
          "output_type": "stream",
          "text": [
            "They eventually break up when Monica realizes that Richard, already a father, does not want more children.\n",
            "In the season 4 premiere, after Ross breaks up with Bonnie, he and Rachel briefly reconcile after Ross pretends to read a long letter that Rachel wrote for him.\n",
            "She develops a crush on her neighbour Danny and they date briefly, until she realizes that he is too close with his sister.\n",
            "After Janine moves out, Joey struggles with paying his bills so he takes a job at Central Perk.\n",
            "Phoebe and Rachel's apartment catches fire, and Rachel moves in with Joey, while Phoebe stays with Chandler and Monica, though they later switch.\n"
          ],
          "name": "stdout"
        }
      ]
    },
    {
      "cell_type": "markdown",
      "metadata": {
        "id": "2eLWGbMJ-6AK"
      },
      "source": [
        "#LuhnSummarizer"
      ]
    },
    {
      "cell_type": "code",
      "metadata": {
        "id": "D0KuUxBe6s2h"
      },
      "source": [
        "# Import the summarizer\n",
        "from sumy.summarizers.luhn import LuhnSummarizer"
      ],
      "execution_count": null,
      "outputs": []
    },
    {
      "cell_type": "code",
      "metadata": {
        "id": "FkoVJrJF6s4t"
      },
      "source": [
        "# Creating the parser\n",
        "from sumy.nlp.tokenizers import Tokenizer\n",
        "from sumy.parsers.plaintext import PlaintextParser\n",
        "parser=PlaintextParser.from_string(original_text,Tokenizer('english'))"
      ],
      "execution_count": null,
      "outputs": []
    },
    {
      "cell_type": "code",
      "metadata": {
        "id": "U3X8f98L9rDh",
        "colab": {
          "base_uri": "https://localhost:8080/"
        },
        "outputId": "67e5b384-9160-4624-ae91-d5c5becd8295"
      },
      "source": [
        "#  Creating the summarizer\n",
        "luhn_summarizer=LuhnSummarizer()\n",
        "luhn_summary=luhn_summarizer(parser.document,sentences_count=3)\n",
        "\n",
        "# Printing the summary\n",
        "for sentence in luhn_summary:\n",
        "  print(sentence)"
      ],
      "execution_count": null,
      "outputs": [
        {
          "output_type": "stream",
          "text": [
            "They eventually begin a relationship after Rachel sees an old home video from her and Monica's prom night and realizes Ross was going to stand in for her prom date who nearly stood her up.\n",
            "Chandler and Monica sleep together, and Rachel, realizing that she is still in love with Ross, rushes to London to stop Ross and Emily's wedding, but changes her mind when she sees them happy together.\n",
            "Joey's television series, Mac and C.H.E.E.S.E is canceled, but he is offered his old role on Days of Our Lives; the show is retconned with the revelation that Dr. Drake Ramoray has been in a four-year coma and is revived with a brain transplant from another character.\n"
          ],
          "name": "stdout"
        }
      ]
    }
  ]
}
